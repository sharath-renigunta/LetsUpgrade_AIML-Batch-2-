{
 "cells": [
  {
   "cell_type": "code",
   "execution_count": 12,
   "metadata": {},
   "outputs": [
    {
     "name": "stdout",
     "output_type": "stream",
     "text": [
      "(2+9j)\n"
     ]
    }
   ],
   "source": [
    "#Question1\n",
    "a = 5+7j\n",
    "b = 3-2j\n",
    "print(a-b)"
   ]
  },
  {
   "cell_type": "code",
   "execution_count": 13,
   "metadata": {},
   "outputs": [
    {
     "name": "stdout",
     "output_type": "stream",
     "text": [
      "5.0\n"
     ]
    }
   ],
   "source": [
    "#Question2\n",
    "number = 625\n",
    "print(number**(1/4))"
   ]
  },
  {
   "cell_type": "code",
   "execution_count": 14,
   "metadata": {},
   "outputs": [
    {
     "name": "stdout",
     "output_type": "stream",
     "text": [
      "20 10\n"
     ]
    }
   ],
   "source": [
    "#Question3\n",
    "a = 10\n",
    "b = 20\n",
    "a = a+b\n",
    "b = a-b\n",
    "a = a-b\n",
    "print(a,b)"
   ]
  },
  {
   "cell_type": "code",
   "execution_count": 15,
   "metadata": {},
   "outputs": [
    {
     "name": "stdout",
     "output_type": "stream",
     "text": [
      "temparature in fareign heats 120\n",
      "Temperature in Kelvin :  322.3888888888889\n",
      "Tempertaure in Celsius :  48.888888888888886\n"
     ]
    }
   ],
   "source": [
    "#Questin4 and 5\n",
    "f = 120\n",
    "print('temparature in fareign heats',f)\n",
    "k = 273.5 + ((f - 32.0) * (5/9))\n",
    "print('Temperature in Kelvin : ', k)\n",
    "c = (f - 32) * 5 / 9\n",
    "print('Tempertaure in Celsius : ', c)"
   ]
  },
  {
   "cell_type": "code",
   "execution_count": 16,
   "metadata": {},
   "outputs": [
    {
     "name": "stdout",
     "output_type": "stream",
     "text": [
      "<class 'int'>\n",
      "<class 'float'>\n",
      "<class 'str'>\n",
      "<class 'complex'>\n",
      "<class 'list'>\n",
      "<class 'set'>\n",
      "<class 'dict'>\n"
     ]
    }
   ],
   "source": [
    "#Questin6\n",
    "print(type(2))\n",
    "print(type(3.1))\n",
    "print(type('sharath'))\n",
    "print(type(2+5j))\n",
    "print(type([2,3,4,5]))\n",
    "print(type({4,3,2}))\n",
    "print(type({'accountNo':'1234','Password':'1111'}))"
   ]
  }
 ],
 "metadata": {
  "kernelspec": {
   "display_name": "Python 3",
   "language": "python",
   "name": "python3"
  },
  "language_info": {
   "codemirror_mode": {
    "name": "ipython",
    "version": 3
   },
   "file_extension": ".py",
   "mimetype": "text/x-python",
   "name": "python",
   "nbconvert_exporter": "python",
   "pygments_lexer": "ipython3",
   "version": "3.8.3"
  }
 },
 "nbformat": 4,
 "nbformat_minor": 4
}
