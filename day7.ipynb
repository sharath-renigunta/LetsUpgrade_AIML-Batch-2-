{
 "cells": [
  {
   "cell_type": "code",
   "execution_count": 4,
   "metadata": {},
   "outputs": [
    {
     "name": "stdout",
     "output_type": "stream",
     "text": [
      "i am good\n",
      "i am charmmoneymoney\n",
      "power\n"
     ]
    }
   ],
   "source": [
    "# Opening a file in read-mode\n",
    "file = open('first.txt','r')\n",
    "\n",
    "# Opening a new file in write-mode\n",
    "new_file = open('second.txt','w')\n",
    "\n",
    "# Reading data from the file \n",
    "content = file.readlines()\n",
    "\n",
    "# Copying the data with the help of For loop.\n",
    "for i in range(0, len(content)):\n",
    "    new_file.write(content[i])\n",
    "\n",
    "# Closing the file after copying the data.\n",
    "new_file.close()\n",
    "\n",
    "# Opening the new file in read-mode.\n",
    "new_file = open('second.txt','r')\n",
    "data = new_file.read()\n",
    "# Printing the copied data.\n",
    "print(data)\n",
    "# Finally Closing the file.\n",
    "new_file.close()"
   ]
  },
  {
   "cell_type": "code",
   "execution_count": 6,
   "metadata": {},
   "outputs": [
    {
     "name": "stdout",
     "output_type": "stream",
     "text": [
      "The Minimum Value is => 1\n",
      "The Maximum Value is => 4\n"
     ]
    }
   ],
   "source": [
    "#Q2\n",
    "# Dictionary with key and values\n",
    "dictionary = {'a' : 1, 'b' : 2, 'c' : 3, 'd' : 4}\n",
    "# storing the vales of the dictionary\n",
    "values = list(dictionary.values())\n",
    "# Sorting the values.\n",
    "values.sort()\n",
    "# Finally printing the output.\n",
    "print('The Minimum Value is =>',values[0])\n",
    "print('The Maximum Value is =>',values[-1])"
   ]
  },
  {
   "cell_type": "code",
   "execution_count": null,
   "metadata": {},
   "outputs": [],
   "source": []
  }
 ],
 "metadata": {
  "kernelspec": {
   "display_name": "Python 3",
   "language": "python",
   "name": "python3"
  },
  "language_info": {
   "codemirror_mode": {
    "name": "ipython",
    "version": 3
   },
   "file_extension": ".py",
   "mimetype": "text/x-python",
   "name": "python",
   "nbconvert_exporter": "python",
   "pygments_lexer": "ipython3",
   "version": "3.8.3"
  }
 },
 "nbformat": 4,
 "nbformat_minor": 4
}
