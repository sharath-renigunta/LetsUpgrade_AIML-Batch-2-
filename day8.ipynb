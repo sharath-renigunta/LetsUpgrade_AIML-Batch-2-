{
 "cells": [
  {
   "cell_type": "code",
   "execution_count": 2,
   "metadata": {},
   "outputs": [
    {
     "data": {
      "text/plain": [
       "10"
      ]
     },
     "execution_count": 2,
     "metadata": {},
     "output_type": "execute_result"
    }
   ],
   "source": [
    "#Q1\n",
    "# map(funtion, iterables)\n",
    "def sum(a):\n",
    "    return a+a\n",
    "\n",
    "sum(5)"
   ]
  },
  {
   "cell_type": "code",
   "execution_count": 3,
   "metadata": {},
   "outputs": [
    {
     "name": "stdout",
     "output_type": "stream",
     "text": [
      "[2, 4, 6, 8, 10]\n"
     ]
    }
   ],
   "source": [
    "\n",
    "# map(funtion, iterables)\n",
    "def sum(a):\n",
    "    return a+a\n",
    "x = map(sum,[1,2,3,4,5])\n",
    "print(list(x))"
   ]
  },
  {
   "cell_type": "code",
   "execution_count": 4,
   "metadata": {},
   "outputs": [
    {
     "name": "stdout",
     "output_type": "stream",
     "text": [
      "[6, 8, 4, 6, 8]\n"
     ]
    }
   ],
   "source": [
    "def sum(a,b):\n",
    "    return a+b\n",
    "x = map(sum,[1,2,3,4,5],[5,6,1,2,3])\n",
    "print(list(x))"
   ]
  },
  {
   "cell_type": "code",
   "execution_count": 5,
   "metadata": {},
   "outputs": [
    {
     "data": {
      "text/plain": [
       "False"
      ]
     },
     "execution_count": 5,
     "metadata": {},
     "output_type": "execute_result"
    }
   ],
   "source": [
    "def even(x):\n",
    "    return x%2==0\n",
    "even(2)\n",
    "even(3)"
   ]
  },
  {
   "cell_type": "code",
   "execution_count": 6,
   "metadata": {},
   "outputs": [
    {
     "name": "stdout",
     "output_type": "stream",
     "text": [
      "[2, 4, 6, 8]\n"
     ]
    }
   ],
   "source": [
    "lst = [1,2,3,4,5,6,7,8,9]\n",
    "\n",
    "def even(x):\n",
    "    return x%2==0\n",
    "x = filter(even,lst)\n",
    "print(list(x))"
   ]
  },
  {
   "cell_type": "code",
   "execution_count": 7,
   "metadata": {},
   "outputs": [
    {
     "data": {
      "text/plain": [
       "21"
      ]
     },
     "execution_count": 7,
     "metadata": {},
     "output_type": "execute_result"
    }
   ],
   "source": [
    "def sum(a,b):\n",
    "    return a+b\n",
    "sum(15,6)"
   ]
  },
  {
   "cell_type": "code",
   "execution_count": 8,
   "metadata": {},
   "outputs": [
    {
     "name": "stdout",
     "output_type": "stream",
     "text": [
      "21\n"
     ]
    }
   ],
   "source": [
    "from functools import reduce\n",
    "\n",
    "def sum(a,b):\n",
    "    return a+b\n",
    "x = reduce(sum,[1,2,3,4,5,6])\n",
    "print(x)"
   ]
  },
  {
   "cell_type": "code",
   "execution_count": 9,
   "metadata": {},
   "outputs": [
    {
     "name": "stdout",
     "output_type": "stream",
     "text": [
      "21\n"
     ]
    }
   ],
   "source": [
    "x = reduce(lambda a,b: a+b,[1,2,3,4,5,6])\n",
    "print(x)"
   ]
  },
  {
   "cell_type": "code",
   "execution_count": 10,
   "metadata": {},
   "outputs": [
    {
     "name": "stdout",
     "output_type": "stream",
     "text": [
      "[2, 4, 6, 8]\n"
     ]
    }
   ],
   "source": [
    "lst = [1,2,3,4,5,6,7,8,9]\n",
    "x = filter(lambda a : a%2==0, lst)\n",
    "print(list(x))"
   ]
  },
  {
   "cell_type": "code",
   "execution_count": 11,
   "metadata": {},
   "outputs": [
    {
     "name": "stdout",
     "output_type": "stream",
     "text": [
      "[2, 4, 6, 8, 10, 12, 14]\n"
     ]
    }
   ],
   "source": [
    "lst = [1,2,3,4,5,6,7]\n",
    "\n",
    "x = map(lambda x : x*2, lst)\n",
    "print(list(x))"
   ]
  },
  {
   "cell_type": "code",
   "execution_count": 13,
   "metadata": {},
   "outputs": [
    {
     "name": "stdout",
     "output_type": "stream",
     "text": [
      "50\n"
     ]
    }
   ],
   "source": [
    "y = reduce( lambda a,b : a+b  , map(lambda x : x + x, filter(lambda x : x>=3,[1,2,3,4,5,6,7])))\n",
    "print((y))"
   ]
  },
  {
   "cell_type": "code",
   "execution_count": 14,
   "metadata": {},
   "outputs": [],
   "source": [
    "#Q2"
   ]
  },
  {
   "cell_type": "code",
   "execution_count": 17,
   "metadata": {},
   "outputs": [
    {
     "name": "stdout",
     "output_type": "stream",
     "text": [
      "Hi i am a sharath\n"
     ]
    }
   ],
   "source": [
    "class Customer:\n",
    "    def customerDetails(self):\n",
    "        print('Hi i am a sharath')\n",
    "    \n",
    "c = Customer()\n",
    "c.customerDetails()"
   ]
  },
  {
   "cell_type": "code",
   "execution_count": 19,
   "metadata": {},
   "outputs": [
    {
     "name": "stdout",
     "output_type": "stream",
     "text": [
      " The Id of student  7000\n",
      " The Name of the Student is  Sharath\n"
     ]
    }
   ],
   "source": [
    "class Students:\n",
    "    def __init__(self,id,name):\n",
    "        self.id = id\n",
    "        self.name = name\n",
    "    def details(self):\n",
    "        print(' The Id of student ', self.id)\n",
    "        print(' The Name of the Student is ', self.name)\n",
    "        \n",
    "        \n",
    "obj = Students(7000,'Sharath')\n",
    "obj.details()"
   ]
  },
  {
   "cell_type": "code",
   "execution_count": 22,
   "metadata": {},
   "outputs": [
    {
     "name": "stdout",
     "output_type": "stream",
     "text": [
      "The details of the  Figo car :\n",
      "The car is :  Figo\n",
      "The brand of the car is :  Ford\n",
      "The colour of the car is :  White\n",
      "\n",
      "The details of the  Polo car :\n",
      "The car is :  Polo\n",
      "The brand of the car is :  Volkswagen\n",
      "The colour of the car is :  Grey\n"
     ]
    }
   ],
   "source": [
    "## Using class and Instance Variables.\n",
    "\n",
    "class Car:\n",
    "    # Class Variables\n",
    "    car1 = 'Figo'\n",
    "    car2 = 'Polo'\n",
    "    \n",
    "    \n",
    "    def __init__(self,brand,colour):\n",
    "        # Instance Variables\n",
    "        self.brand = brand\n",
    "        self.colour = colour\n",
    "\n",
    "Figo = Car('Ford','White')\n",
    "Polo = Car('Volkswagen','Grey')\n",
    "print('The details of the  Figo car :')\n",
    "print('The car is : ',Car.car1)\n",
    "print('The brand of the car is : ', Figo.brand )\n",
    "print('The colour of the car is : ', Figo.colour)\n",
    "\n",
    "print('\\nThe details of the  Polo car :')\n",
    "print('The car is : ',Car.car2)\n",
    "print('The brand of the car is : ', Polo.brand )\n",
    "print('The colour of the car is : ', Polo.colour)"
   ]
  },
  {
   "cell_type": "code",
   "execution_count": 25,
   "metadata": {},
   "outputs": [
    {
     "name": "stdout",
     "output_type": "stream",
     "text": [
      "red\n"
     ]
    }
   ],
   "source": [
    "## Instance Variables inside functions.\n",
    "class Car:  \n",
    "        \n",
    "    # Class Variable  \n",
    "    car = 'City'      \n",
    "        \n",
    "    # The init method or constructor  \n",
    "    def __init__(self, brand):  \n",
    "            \n",
    "        # Instance Variable  \n",
    "        self.brand = brand              \n",
    "    \n",
    "    # Adds an instance variable   \n",
    "    def setColor(self, color):  \n",
    "        self.color = color  \n",
    "        \n",
    "    # Retrieves instance variable      \n",
    "    def getColor(self):      \n",
    "        return self.color     \n",
    "    \n",
    "  \n",
    "City = Car(\"Mitsubishi\")  \n",
    "City.setColor(\"red\")  \n",
    "print(City.getColor())\n"
   ]
  },
  {
   "cell_type": "code",
   "execution_count": null,
   "metadata": {},
   "outputs": [],
   "source": []
  }
 ],
 "metadata": {
  "kernelspec": {
   "display_name": "Python 3",
   "language": "python",
   "name": "python3"
  },
  "language_info": {
   "codemirror_mode": {
    "name": "ipython",
    "version": 3
   },
   "file_extension": ".py",
   "mimetype": "text/x-python",
   "name": "python",
   "nbconvert_exporter": "python",
   "pygments_lexer": "ipython3",
   "version": "3.8.3"
  }
 },
 "nbformat": 4,
 "nbformat_minor": 4
}
