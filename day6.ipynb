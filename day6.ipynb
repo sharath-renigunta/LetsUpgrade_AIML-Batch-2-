{
 "cells": [
  {
   "cell_type": "code",
   "execution_count": 3,
   "metadata": {},
   "outputs": [
    {
     "data": {
      "text/plain": [
       "'merakii'"
      ]
     },
     "execution_count": 3,
     "metadata": {},
     "output_type": "execute_result"
    }
   ],
   "source": [
    "#Q1\n",
    "(\"sharathInfo@merakii.com\").split('@')[1].split('.')[0]"
   ]
  },
  {
   "cell_type": "code",
   "execution_count": 5,
   "metadata": {},
   "outputs": [
    {
     "name": "stdout",
     "output_type": "stream",
     "text": [
      "Enter words seperated by comma manish,uday,sandeep,akhil,wazid\n",
      "The words in sorted order:  akhil,manish,sandeep,uday,wazid\n"
     ]
    }
   ],
   "source": [
    "lst = []\n",
    "str_words = input('Enter words seperated by comma ')\n",
    "x = str_words.split(',')\n",
    "x.sort()\n",
    "\n",
    "for i in x:\n",
    "    lst.append(i)   \n",
    "\n",
    "print('The words in sorted order: ',','.join(lst))"
   ]
  },
  {
   "cell_type": "code",
   "execution_count": 7,
   "metadata": {},
   "outputs": [],
   "source": [
    "#Q2"
   ]
  },
  {
   "cell_type": "code",
   "execution_count": 8,
   "metadata": {},
   "outputs": [
    {
     "name": "stdout",
     "output_type": "stream",
     "text": [
      "{'bikes', 'planes', 'cars'}\n"
     ]
    }
   ],
   "source": [
    "\n",
    "# Set is a collection like list and tuple, which are unordered and unindexed. Sets are represented in { } braces.\n",
    "\n",
    "# As it says sets are unordered, we camnot predict its order. The items in set will appear in random order. for example:\n",
    "\n",
    "x = {'cars', 'bikes','planes'}\n",
    "print(x)"
   ]
  },
  {
   "cell_type": "code",
   "execution_count": 9,
   "metadata": {},
   "outputs": [],
   "source": [
    "# Set has built-in methods to make ease for developers. It has a quite a good number of methods which makes things easier."
   ]
  },
  {
   "cell_type": "code",
   "execution_count": 10,
   "metadata": {},
   "outputs": [
    {
     "name": "stdout",
     "output_type": "stream",
     "text": [
      "{'Skoda', 'Audi', 'Volkswagen', 'Ford'}\n"
     ]
    }
   ],
   "source": [
    "# If a set is created once you cannot change its items, but u can add items using add().\n",
    "sets = {'Volkswagen','Skoda','Audi'}\n",
    "sets.add('Ford')\n",
    "print(sets)"
   ]
  },
  {
   "cell_type": "code",
   "execution_count": 11,
   "metadata": {},
   "outputs": [
    {
     "name": "stdout",
     "output_type": "stream",
     "text": [
      "{'Skoda', 'Audi', 'Volkswagen'}\n"
     ]
    }
   ],
   "source": [
    "# You can make a copy of set using copy().\n",
    "sets = {'Volkswagen','Skoda','Audi'}\n",
    "sets.copy()\n",
    "print(sets)"
   ]
  },
  {
   "cell_type": "code",
   "execution_count": 12,
   "metadata": {},
   "outputs": [
    {
     "name": "stdout",
     "output_type": "stream",
     "text": [
      "{'Audi', 'ford'}\n"
     ]
    }
   ],
   "source": [
    "\n",
    "# Return a set that contains the items that only exist in sets , and not in sets1\n",
    "\n",
    "sets = {'Volkswagen','Skoda','Audi','ford'}\n",
    "sets1 = {'Skoda','Volkswagen','Bmw','Benz'}\n",
    "x = sets.difference(sets1)\n",
    "print(x)"
   ]
  },
  {
   "cell_type": "code",
   "execution_count": 13,
   "metadata": {},
   "outputs": [
    {
     "name": "stdout",
     "output_type": "stream",
     "text": [
      "{'Audi'}\n"
     ]
    }
   ],
   "source": [
    "#\n",
    "sets = {'Volkswagen','Skoda','Audi'}\n",
    "sets1 = {'Volkswagen','Bmw','Benz','Skoda'}\n",
    "sets.difference_update(sets1)\n",
    "print(sets)"
   ]
  },
  {
   "cell_type": "code",
   "execution_count": 14,
   "metadata": {},
   "outputs": [
    {
     "name": "stdout",
     "output_type": "stream",
     "text": [
      "{'Skoda', 'Volkswagen'}\n"
     ]
    }
   ],
   "source": [
    "# discard() removes the specified item from the set and returns remaining items in the set.\n",
    "sets = {'Volkswagen','Skoda','Audi'}\n",
    "sets.discard('Audi')\n",
    "print(sets)"
   ]
  },
  {
   "cell_type": "code",
   "execution_count": 15,
   "metadata": {},
   "outputs": [
    {
     "name": "stdout",
     "output_type": "stream",
     "text": [
      "{'Volkswagen', 'Skoda'}\n"
     ]
    }
   ],
   "source": [
    "# intersection() returns a set that contains the common items from both the sets.\n",
    "sets = {'Volkswagen','Skoda','Audi'}\n",
    "sets1 = {'Volkswagen','Bmw','Benz','Skoda'}\n",
    "x = sets.intersection(sets1)\n",
    "print(x)"
   ]
  },
  {
   "cell_type": "code",
   "execution_count": 16,
   "metadata": {},
   "outputs": [
    {
     "name": "stdout",
     "output_type": "stream",
     "text": [
      "{'Volkswagen'}\n"
     ]
    }
   ],
   "source": [
    "# it works same as intersection() method it takes 3 sets to find the common items contains from the 3 sets.\n",
    "sets = {'Volkswagen','Skoda','Audi'}\n",
    "sets1 = {'Volkswagen','Bmw','Benz','Skoda'}\n",
    "sets2 = {'Polo','Figo','Volkswagen'}\n",
    "sets.intersection_update(sets1,sets2)\n",
    "print(sets)"
   ]
  },
  {
   "cell_type": "code",
   "execution_count": 17,
   "metadata": {},
   "outputs": [
    {
     "name": "stdout",
     "output_type": "stream",
     "text": [
      "False\n"
     ]
    }
   ],
   "source": [
    "# Returns True if no items in sets is present in sets1 else it returns False.\n",
    "sets = {'Volkswagen','Skoda','Audi'}\n",
    "sets1 = {'Volkswagen','Bmw','Benz','Skoda'}\n",
    "x = sets.isdisjoint(sets1)\n",
    "print(x)"
   ]
  },
  {
   "cell_type": "code",
   "execution_count": 18,
   "metadata": {},
   "outputs": [
    {
     "name": "stdout",
     "output_type": "stream",
     "text": [
      "False\n"
     ]
    }
   ],
   "source": [
    "# Return True only if all items present in sets  are present in sets1\n",
    "sets1 = {'Volkswagen','Skoda','Audi'}\n",
    "sets = {'Volkswagen','Bmw','Benz','Skoda','Audi'}\n",
    "x = sets.issubset(sets1)\n",
    "print(x)\n"
   ]
  },
  {
   "cell_type": "code",
   "execution_count": 19,
   "metadata": {},
   "outputs": [
    {
     "name": "stdout",
     "output_type": "stream",
     "text": [
      "True\n"
     ]
    }
   ],
   "source": [
    "# Return True only if all items present in sets1 are present in sets\n",
    "sets = {'Volkswagen','Bmw','Benz','Skoda','Audi'}\n",
    "sets1 = {'Volkswagen','Skoda','Audi'}\n",
    "x = sets.issuperset(sets1)\n",
    "print(x)\n"
   ]
  },
  {
   "cell_type": "code",
   "execution_count": 20,
   "metadata": {},
   "outputs": [
    {
     "name": "stdout",
     "output_type": "stream",
     "text": [
      "{'3', '2'}\n"
     ]
    }
   ],
   "source": [
    "# pop() method removes the item. As set is unordered the output is random.\n",
    "sets = {'1','2','3'}\n",
    "sets.pop()\n",
    "print(sets)"
   ]
  },
  {
   "cell_type": "code",
   "execution_count": 21,
   "metadata": {},
   "outputs": [
    {
     "name": "stdout",
     "output_type": "stream",
     "text": [
      "{'Skoda', 'Volkswagen', 'Bmw', 'Benz'}\n"
     ]
    }
   ],
   "source": [
    "# remove() method removes the specific item from the set. and the output is always random.\n",
    "sets = {'Volkswagen','Bmw','Benz','Skoda','Audi'}\n",
    "sets.remove('Audi')\n",
    "print(sets)"
   ]
  },
  {
   "cell_type": "code",
   "execution_count": 22,
   "metadata": {},
   "outputs": [
    {
     "name": "stdout",
     "output_type": "stream",
     "text": [
      "{'Benz', 'Bmw'}\n"
     ]
    }
   ],
   "source": [
    "# Return a set that contains all items from both sets, except items that are present in both sets\n",
    "sets = {'Volkswagen','Bmw','Benz','Skoda','Audi'}\n",
    "sets1 = {'Volkswagen','Skoda','Audi'}\n",
    "x  = sets.symmetric_difference(sets1)\n",
    "print(x)"
   ]
  },
  {
   "cell_type": "code",
   "execution_count": 23,
   "metadata": {},
   "outputs": [
    {
     "name": "stdout",
     "output_type": "stream",
     "text": [
      "{'Bmw', 'Benz'}\n"
     ]
    }
   ],
   "source": [
    "# Removes items contains in both the sets and returns the remaining items from both the sets.\n",
    "sets = {'Volkswagen','Bmw','Benz','Skoda','Audi'}\n",
    "sets1 = {'Volkswagen','Skoda','Audi'}\n",
    "sets.symmetric_difference_update(sets1)\n",
    "print(sets)"
   ]
  },
  {
   "cell_type": "code",
   "execution_count": 24,
   "metadata": {},
   "outputs": [
    {
     "name": "stdout",
     "output_type": "stream",
     "text": [
      "{'Ford', 'Skoda', 'Volkswagen', 'Bmw', 'Benz', 'Audi'}\n"
     ]
    }
   ],
   "source": [
    "# union() method basically returns a set contains all the items after removing the duplicate items.\n",
    "sets = {'Volkswagen','Bmw','Benz','Skoda','Audi'}\n",
    "sets1 = {'Volkswagen','Skoda','Audi','Ford'}\n",
    "x = sets.union(sets1)\n",
    "print(x)"
   ]
  },
  {
   "cell_type": "code",
   "execution_count": 25,
   "metadata": {},
   "outputs": [
    {
     "name": "stdout",
     "output_type": "stream",
     "text": [
      "{'Volkswagen', 'Bmw', 'Benz', 'Audi', 'Skoda'}\n"
     ]
    }
   ],
   "source": [
    "# update() method updates the items from both the sets, no duplicates.\n",
    "sets = {'Volkswagen','Skoda','Audi'}\n",
    "sets1 = {'Volkswagen','Bmw','Benz','Skoda'}\n",
    "sets.update(sets1)\n",
    "print(sets)"
   ]
  },
  {
   "cell_type": "code",
   "execution_count": 26,
   "metadata": {},
   "outputs": [
    {
     "name": "stdout",
     "output_type": "stream",
     "text": [
      "set()\n"
     ]
    }
   ],
   "source": [
    "# clear() method will wipe out all the items from the set and returns an empty set.\n",
    "sets = {'Volkswagen','Skoda','Audi'}\n",
    "sets.clear()\n",
    "print(sets)"
   ]
  },
  {
   "cell_type": "code",
   "execution_count": 28,
   "metadata": {},
   "outputs": [
    {
     "name": "stdout",
     "output_type": "stream",
     "text": [
      "[5]\n"
     ]
    }
   ],
   "source": [
    "#Q4\n",
    "def missing_number(lst): \n",
    "    return [x for x in range(lst[0], lst[-1]+1)  \n",
    "                               if x not in lst] \n",
    " \n",
    "lst = [1, 2, 4, 6, 3, 7, 8] \n",
    "print(missing_number(lst))"
   ]
  },
  {
   "cell_type": "code",
   "execution_count": 30,
   "metadata": {},
   "outputs": [
    {
     "name": "stdout",
     "output_type": "stream",
     "text": [
      "Enter the numbers: 12 24 35 24\n",
      "The output is 12 24 35\n"
     ]
    }
   ],
   "source": [
    "#Q5\n",
    "lst = input('Enter the numbers: ')\n",
    "li = lst.split(' ')\n",
    "\n",
    "for i in li:\n",
    "    limit = li.count(i)\n",
    "    if limit >= 2:\n",
    "        li.remove(i)\n",
    "li.sort()\n",
    "\n",
    "print('The output is',' '.join(li))"
   ]
  },
  {
   "cell_type": "code",
   "execution_count": null,
   "metadata": {},
   "outputs": [],
   "source": []
  },
  {
   "cell_type": "code",
   "execution_count": null,
   "metadata": {},
   "outputs": [],
   "source": []
  }
 ],
 "metadata": {
  "kernelspec": {
   "display_name": "Python 3",
   "language": "python",
   "name": "python3"
  },
  "language_info": {
   "codemirror_mode": {
    "name": "ipython",
    "version": 3
   },
   "file_extension": ".py",
   "mimetype": "text/x-python",
   "name": "python",
   "nbconvert_exporter": "python",
   "pygments_lexer": "ipython3",
   "version": "3.8.3"
  }
 },
 "nbformat": 4,
 "nbformat_minor": 4
}
