{
 "cells": [
  {
   "cell_type": "code",
   "execution_count": 6,
   "metadata": {},
   "outputs": [
    {
     "name": "stdout",
     "output_type": "stream",
     "text": [
      "3\n",
      "5\n",
      "7\n",
      "11\n",
      "13\n",
      "17\n",
      "19\n"
     ]
    }
   ],
   "source": [
    "#Q1\n",
    "first = 1\n",
    "last = 20\n",
    "for num in range(first, last + 1):\n",
    "    if(num>2):\n",
    "        for i in range(2, num):\n",
    "            if(num % i == 0):\n",
    "                break\n",
    "        else:\n",
    "            print(num)"
   ]
  },
  {
   "cell_type": "code",
   "execution_count": 7,
   "metadata": {},
   "outputs": [
    {
     "name": "stdout",
     "output_type": "stream",
     "text": [
      "Sharath\n",
      "sharath\n",
      "2\n",
      " sharath  \n",
      "b'sharath'\n",
      "True\n",
      "s       h       a       r       ath\n",
      "3\n",
      "I want to earn  50000.00 rupees\n",
      "5\n",
      "True\n",
      "True\n",
      "True\n",
      "sharath\n",
      "False\n"
     ]
    }
   ],
   "source": [
    "#Q2\n",
    "print(('Sharath').capitalize())\n",
    "print(('SHARATH').casefold())\n",
    "print(('sharath').count('h'))\n",
    "print(('sharath').center(10))\n",
    "print(('sharath').encode())\n",
    "print(('sharath').endswith('h'))\n",
    "print(('s\\th\\ta\\tr\\tath').expandtabs())\n",
    "print(('sharath').find('r'))\n",
    "testval = 'I want to earn {testval: .2f} rupees'\n",
    "print(testval.format(testval = 50000))\n",
    "print(('sharath').index('t'))\n",
    "print(('sharath2020').isalnum())\n",
    "print(('sharath').isalpha())\n",
    "print(('2020').isdecimal())\n",
    "print(('SHARATH').lower())\n",
    "print(('SHARATH').islower())"
   ]
  },
  {
   "cell_type": "code",
   "execution_count": 5,
   "metadata": {},
   "outputs": [
    {
     "name": "stdout",
     "output_type": "stream",
     "text": [
      " Enter a String 323\n",
      " Enter another String sha\n",
      "Palindrome\n"
     ]
    }
   ],
   "source": [
    "# string = 'Hi i am sharath and i want to become a software developer'\n",
    "# string1 = 'And im interested in learning AI/ML'\n",
    "\n",
    "string = input(' Enter a String ')\n",
    "string1 = input(' Enter another String ')\n",
    "\n",
    "string = string.casefold()\n",
    "string = string.replace(' ','')\n",
    "string1 = string1.casefold()\n",
    "string1 = string1.replace(' ','')\n",
    "\n",
    "\n",
    "def anagram(string, string1):\n",
    "    l  = len(string)\n",
    "    l1 = len(string1)\n",
    "    string = sorted(string)\n",
    "    string1 = sorted(string1)\n",
    "    \n",
    "    \n",
    "    if(l == l1):\n",
    "        for i in range(0, l):\n",
    "            if(string[i] == string1[i]):\n",
    "                return 1\n",
    "               \n",
    "\n",
    "               \n",
    "    \n",
    "def palindrome(string):\n",
    "    reversed_str = ''\n",
    "    for i in string:\n",
    "        reversed_str = i + reversed_str\n",
    "        \n",
    "        if(string == reversed_str):\n",
    "            return 1\n",
    "       \n",
    "\n",
    "    \n",
    "if(anagram(string,string1) == 1):\n",
    "    print('Anagram')\n",
    "    \n",
    "elif (palindrome(string) == 1):\n",
    "    print('Palindrome')\n",
    "else:\n",
    "    print('None of them')"
   ]
  },
  {
   "cell_type": "code",
   "execution_count": 4,
   "metadata": {},
   "outputs": [
    {
     "name": "stdout",
     "output_type": "stream",
     "text": [
      "drdarshaningleaimltrainer\n"
     ]
    }
   ],
   "source": [
    "my_string = 'Dr. Darshan Ingle @AIML Trainer'\n",
    "string = my_string.replace('.','').replace('@','').replace(' ','')\n",
    "string = string.lower()\n",
    "print(string)"
   ]
  }
 ],
 "metadata": {
  "kernelspec": {
   "display_name": "Python 3",
   "language": "python",
   "name": "python3"
  },
  "language_info": {
   "codemirror_mode": {
    "name": "ipython",
    "version": 3
   },
   "file_extension": ".py",
   "mimetype": "text/x-python",
   "name": "python",
   "nbconvert_exporter": "python",
   "pygments_lexer": "ipython3",
   "version": "3.8.3"
  }
 },
 "nbformat": 4,
 "nbformat_minor": 4
}
